{
  "nbformat": 4,
  "nbformat_minor": 0,
  "metadata": {
    "colab": {
      "provenance": [],
      "authorship_tag": "ABX9TyNYb8h/PqKSfwW11SGOQZBX",
      "include_colab_link": true
    },
    "kernelspec": {
      "name": "python3",
      "display_name": "Python 3"
    },
    "language_info": {
      "name": "python"
    }
  },
  "cells": [
    {
      "cell_type": "markdown",
      "metadata": {
        "id": "view-in-github",
        "colab_type": "text"
      },
      "source": [
        "<a href=\"https://colab.research.google.com/github/gustavoalcantara/data-porfolio/blob/main/geospatial_etl.ipynb\" target=\"_parent\"><img src=\"https://colab.research.google.com/assets/colab-badge.svg\" alt=\"Open In Colab\"/></a>"
      ]
    },
    {
      "cell_type": "markdown",
      "source": [
        "Adapting geospatial data for BigQuery\n",
        "- Geospatial data holds great importance as it encompasses precise information about the geometry of phenomena or the exact location of objects on the Earth's surface or subsurface. When conducting geospatial analysis in BigQuery, it is necessary for the data to adhere to a standardized format where the geometry type is specified as either \"geography\" or \"geometry\". The provided Colab notebook offers a set of ETL (Extract, Transform, Load) processes that can be employed to convert a .shp file into GeoJSON or WKT formats. Additionally, it demonstrates the practical implementation using the \"basedosdados\" Python package to conduct a basic geospatial analysis.\n"
      ],
      "metadata": {
        "id": "pcEtP82P2IHZ"
      }
    },
    {
      "cell_type": "markdown",
      "source": [
        "Transform to GeoJson"
      ],
      "metadata": {
        "id": "itKpPo9q63ev"
      }
    },
    {
      "cell_type": "code",
      "execution_count": null,
      "metadata": {
        "id": "H2iz2LhQ2GCx"
      },
      "outputs": [],
      "source": [
        "#Installing the packages\n",
        "!pip install geopandas -q\n",
        "!pip install fiona -q\n",
        "!pip install basedosdados -q\n",
        "!pip install shapely -q\n",
        "!pip install mapclassify -q"
      ]
    },
    {
      "cell_type": "code",
      "source": [
        "#import the packages\n",
        "import geopandas as gpd\n",
        "import basedosdados as bd\n",
        "import pandas as pd\n",
        "import numpy as np\n",
        "import matplotlib.pyplot as plt\n",
        "import shapely\n",
        "from shapely import wkt\n",
        "import mapclassify"
      ],
      "metadata": {
        "id": "GjRNVJaR4l5V"
      },
      "execution_count": 4,
      "outputs": []
    },
    {
      "cell_type": "code",
      "source": [
        "#Upload of all files from .shp\n",
        "gdf = gpd.read_file('malaria.shp')"
      ],
      "metadata": {
        "id": "73-noLiK4x_E"
      },
      "execution_count": null,
      "outputs": []
    },
    {
      "cell_type": "code",
      "source": [
        "#Convert to a GeoJSON\n",
        "gdf.to_file(filename ='malaria', driver='GeoJSON')"
      ],
      "metadata": {
        "id": "NI_8fGJS5HxA"
      },
      "execution_count": null,
      "outputs": []
    },
    {
      "cell_type": "code",
      "source": [
        "#Reading the archive\n",
        "gdf = gpd.read_file('/content/malaria')"
      ],
      "metadata": {
        "id": "saxs_LTy5QcU"
      },
      "execution_count": null,
      "outputs": []
    },
    {
      "cell_type": "code",
      "source": [
        "#The content of geometry\n",
        "gdf['geometry'].describe()"
      ],
      "metadata": {
        "colab": {
          "base_uri": "https://localhost:8080/"
        },
        "id": "ZAfNB7Ub55Et",
        "outputId": "543c3448-3935-43cf-a414-310aaee21544"
      },
      "execution_count": null,
      "outputs": [
        {
          "output_type": "execute_result",
          "data": {
            "text/plain": [
              "count                               64\n",
              "unique                              64\n",
              "top       POINT (-60.6769333 -2.57989)\n",
              "freq                                 1\n",
              "Name: geometry, dtype: object"
            ]
          },
          "metadata": {},
          "execution_count": 11
        }
      ]
    },
    {
      "cell_type": "code",
      "source": [
        "gdf.plot()"
      ],
      "metadata": {
        "colab": {
          "base_uri": "https://localhost:8080/",
          "height": 447
        },
        "id": "Jz7m_Z4S52O9",
        "outputId": "a7d0e000-691c-4c3f-f30a-79a61e47f844"
      },
      "execution_count": null,
      "outputs": [
        {
          "output_type": "execute_result",
          "data": {
            "text/plain": [
              "<Axes: >"
            ]
          },
          "metadata": {},
          "execution_count": 6
        },
        {
          "output_type": "display_data",
          "data": {
            "text/plain": [
              "<Figure size 640x480 with 1 Axes>"
            ],
            "image/png": "[encoded data removed]"
          },
          "metadata": {}
        }
      ]
    },
    {
      "cell_type": "markdown",
      "source": [
        "Transform to a WKT"
      ],
      "metadata": {
        "id": "-2gVjBLD7ETu"
      }
    },
    {
      "cell_type": "code",
      "source": [
        "#With my previously shapefile added, lets convert to a Well Known Text (WKT)\n",
        "gdf = gpd.read_file('malaria.shp')"
      ],
      "metadata": {
        "id": "sMSRPBTt6xkN"
      },
      "execution_count": null,
      "outputs": []
    },
    {
      "cell_type": "code",
      "source": [
        "#conversion to a wkt/geometry\n",
        "gdf['geometry'] = gdf['geometry'].apply(lambda wkt: loads(wkt))\n",
        "gdf = gdf.set_geometry('geometry')"
      ],
      "metadata": {
        "id": "zbuFCJEC7Tm-"
      },
      "execution_count": null,
      "outputs": []
    },
    {
      "cell_type": "code",
      "source": [
        "gdf['geometry'].describe()"
      ],
      "metadata": {
        "colab": {
          "base_uri": "https://localhost:8080/"
        },
        "id": "Caf2HGtC7g8d",
        "outputId": "a9ed265c-7ba8-4946-d6c2-c9e230262d82"
      },
      "execution_count": null,
      "outputs": [
        {
          "output_type": "execute_result",
          "data": {
            "text/plain": [
              "count                               64\n",
              "unique                              64\n",
              "top       POINT (-60.6769333 -2.57989)\n",
              "freq                                 1\n",
              "Name: geometry, dtype: object"
            ]
          },
          "metadata": {},
          "execution_count": 19
        }
      ]
    },
    {
      "cell_type": "code",
      "source": [
        "#Remember: this points doesnt have a EPSG or Datum.\n",
        "gdf.plot()"
      ],
      "metadata": {
        "colab": {
          "base_uri": "https://localhost:8080/",
          "height": 447
        },
        "id": "Z3zHNbA57lgE",
        "outputId": "7b51fc13-28ab-4dca-c1a1-7ad3817d1219"
      },
      "execution_count": null,
      "outputs": [
        {
          "output_type": "execute_result",
          "data": {
            "text/plain": [
              "<Axes: >"
            ]
          },
          "metadata": {},
          "execution_count": 20
        },
        {
          "output_type": "display_data",
          "data": {
            "text/plain": [
              "<Figure size 640x480 with 1 Axes>"
            ],
            "image/png": "[encoded data removed]"
          },
          "metadata": {}
        }
      ]
    },
    {
      "cell_type": "markdown",
      "source": [
        "Assigning a WKT from a txt/csv file that does not have a prior spatial attribution"
      ],
      "metadata": {
        "id": "ABSqRHJ8V51X"
      }
    },
    {
      "cell_type": "code",
      "source": [
        "#Reading the .txt or .csv\n",
        "x = pd.read_csv('condicao_entrevistado.txt', sep ='\\t')\n",
        "\n",
        "#Assigning the EPSG to declare the lat/long as a spatial file\n",
        "crs = {'init': 'epsg:4326'}\n",
        "\n",
        "#String replace from comma to point of spatial variables\n",
        "x['x'] = x['x'].str.replace(',', '.')\n",
        "x['y'] = x['y'].str.replace(',', '.')\n",
        "\n",
        "#Change to Float64\n",
        "x['x'] = x['x'].astype(np.float64)\n",
        "x['y'] = x['y'].astype(np.float64)\n",
        "\n",
        "#Assigning the geometry variables\n",
        "from shapely.geometry.polygon import Point\n",
        "geometry = [Point(xy) for xy\n",
        "            in zip(x['x'], x['y'])]\n",
        "\n",
        "#For being a point, it became point, if polygon, assign polygon and so on\n",
        "geo_df = gpd.GeoDataFrame(x,\n",
        "                          crs = crs,\n",
        "                          geometry = geometry)\n",
        "geo_df['geometry'].head()"
      ],
      "metadata": {
        "colab": {
          "base_uri": "https://localhost:8080/"
        },
        "id": "J5Wx1tCAV4GE",
        "outputId": "c97c1d90-29e1-4b42-aad6-f1538ab61bb1"
      },
      "execution_count": null,
      "outputs": [
        {
          "output_type": "execute_result",
          "data": {
            "text/plain": [
              "0    POINT (-60.67693 -2.57989)\n",
              "1    POINT (-60.26111 -3.00310)\n",
              "2    POINT (-60.30543 -3.03741)\n",
              "3    POINT (-60.35581 -3.02633)\n",
              "4    POINT (-60.49681 -2.85660)\n",
              "Name: geometry, dtype: geometry"
            ]
          },
          "metadata": {},
          "execution_count": 4
        }
      ]
    },
    {
      "cell_type": "code",
      "source": [
        "geo_df.plot()"
      ],
      "metadata": {
        "colab": {
          "base_uri": "https://localhost:8080/",
          "height": 447
        },
        "id": "KZRldmYJYC2V",
        "outputId": "81fc8d8e-3dcd-4d4d-ffb6-7d7c4cb73ea8"
      },
      "execution_count": null,
      "outputs": [
        {
          "output_type": "execute_result",
          "data": {
            "text/plain": [
              "<Axes: >"
            ]
          },
          "metadata": {},
          "execution_count": 9
        },
        {
          "output_type": "display_data",
          "data": {
            "text/plain": [
              "<Figure size 640x480 with 1 Axes>"
            ],
            "image/png": "[encoded data removed]"
          },
          "metadata": {}
        }
      ]
    },
    {
      "cell_type": "markdown",
      "source": [
        "After this treatment, it is possible to upload the spatial variable as geometry to the datalake. I use the .csv format and include the geometry format in the variable’s metadata. For this, I use the basedosdados package in python for filling and validating metadata. In this sense, the generated file follows this metadata standard and you can [check it](https://github.com/basedosdados/mais/blob/master/bases/br_geobr_mapas/municipio/table_config.yaml)\n"
      ],
      "metadata": {
        "id": "BhvLC1jvZ8kt"
      }
    },
    {
      "cell_type": "markdown",
      "source": [
        "# Spatial Analysis and Visualizations"
      ],
      "metadata": {
        "id": "Sq4HEz5EgJRO"
      }
    },
    {
      "cell_type": "markdown",
      "source": [
        "# The Query and Correction\n"
      ],
      "metadata": {
        "id": "0oMR787C4IYh"
      }
    },
    {
      "cell_type": "markdown",
      "source": [
        "Now, let’s use geospatial data to generate a simple analysis in a .sql query of the distribution of the value of the built m² in the year 2023 in the city of São Paulo. In this query, I analyzed the 1000 highest and lowest values of the square meter in São Paulo in 2023. For this, I used the Geosampa base available in the particular datalake of basedosdados. In Bigquery, it is possible to perform geospatial analyses according to your needs. I need to analyze the points that overlapped in the city of São Paulo because some points in the general dataframe didn't do.  "
      ],
      "metadata": {
        "id": "0OhnGHq7cflN"
      }
    },
    {
      "cell_type": "code",
      "source": [
        "query = '''\n",
        "WITH city AS (\n",
        "  SELECT ST_GeogFromText(geometria) AS geometry\n",
        "  FROM `basedosdados.br_geobr_mapas.municipio`\n",
        "  WHERE id_municipio = '3550308'\n",
        "),\n",
        "points AS (\n",
        "  WITH top1000 AS (\n",
        "  SELECT\n",
        "    b.cep,\n",
        "    b.logradouro,\n",
        "    b.bairro,\n",
        "    cidade,\n",
        "    AVG(valor_construcao) as valor_construcao,\n",
        "    ST_CENTROID_AGG(centroide) as centroide\n",
        "  FROM `basedosdados.br_sp_saopaulo_geosampa_iptu.iptu` a\n",
        "  INNER JOIN `basedosdados.br_bd_diretorios_brasil.cep` b\n",
        "  ON a.cep = b.cep\n",
        "  WHERE ano = 2023 AND id_municipio = '3550308' AND\n",
        "  cidade = 'São Paulo'\n",
        "  GROUP BY cep, logradouro, bairro, cidade\n",
        "  ORDER BY valor_construcao DESC\n",
        "  LIMIT 1000\n",
        "),\n",
        "under1000 AS (\n",
        "  SELECT\n",
        "    b.cep,\n",
        "    b.logradouro,\n",
        "    b.bairro,\n",
        "    cidade,\n",
        "    AVG(valor_construcao) as valor_construcao,\n",
        "    ST_CENTROID_AGG(centroide) as centroide\n",
        "  FROM `basedosdados.br_sp_saopaulo_geosampa_iptu.iptu` a\n",
        "  INNER JOIN `basedosdados.br_bd_diretorios_brasil.cep` b\n",
        "  ON a.cep = b.cep\n",
        "  WHERE ano = 2023 AND valor_construcao > 0.0 AND id_municipio = '3550308'AND\n",
        "  cidade = 'São Paulo'\n",
        "  GROUP BY cep, logradouro, bairro, cidade\n",
        "  ORDER BY valor_construcao ASC\n",
        "  LIMIT 1000\n",
        ")\n",
        "SELECT * FROM top1000\n",
        "UNION ALL\n",
        "SELECT * FROM under1000\n",
        ")\n",
        "SELECT\n",
        "  cep,\n",
        "  logradouro,\n",
        "  bairro,\n",
        "  cidade,\n",
        "  valor_construcao,\n",
        "  centroide\n",
        "FROM points, city\n",
        "WHERE ST_WITHIN(points.centroide, city.geometry)\n",
        "'''\n",
        "\n",
        "df= bd.read_sql(query, billing_project_id='basedosdados-dev')"
      ],
      "metadata": {
        "colab": {
          "base_uri": "https://localhost:8080/"
        },
        "id": "jz7-kxpPZ6M9",
        "outputId": "d0544733-7376-4f88-ec1b-276bca864e88"
      },
      "execution_count": 5,
      "outputs": [
        {
          "output_type": "stream",
          "name": "stderr",
          "text": [
            "Downloading: 100%|██████████| 1974/1974 [00:00<00:00, 5628.29rows/s]\n"
          ]
        }
      ]
    },
    {
      "cell_type": "code",
      "source": [
        "df.head()"
      ],
      "metadata": {
        "id": "uzWPG1ICTyJZ",
        "outputId": "91ca2644-0cf4-4e01-e68c-f7bb8bdc6c92",
        "colab": {
          "base_uri": "https://localhost:8080/",
          "height": 206
        }
      },
      "execution_count": 6,
      "outputs": [
        {
          "output_type": "execute_result",
          "data": {
            "text/plain": [
              "        cep                                     logradouro  \\\n",
              "0  05005900                       Rua Palestra Itália, 500   \n",
              "1  04543907  Avenida Presidente Juscelino Kubitschek, 1909   \n",
              "2  04005912                              Rua Curitiba, 195   \n",
              "3  01311924                         Avenida Paulista, 1345   \n",
              "4  05425902                Avenida das Nações Unidas, 7221   \n",
              "\n",
              "                bairro     cidade  valor_construcao  \\\n",
              "0             Perdizes  São Paulo           39980.0   \n",
              "1  Vila Nova Conceição  São Paulo           39980.0   \n",
              "2              Paraíso  São Paulo           38610.0   \n",
              "3           Bela Vista  São Paulo           36590.0   \n",
              "4            Pinheiros  São Paulo           36590.0   \n",
              "\n",
              "                        centroide  \n",
              "0  POINT(-46.6808813 -23.5264274)  \n",
              "1  POINT(-46.6878048 -23.5911938)  \n",
              "2  POINT(-46.6536281 -23.5815795)  \n",
              "3   POINT(-46.6548193 -23.563233)  \n",
              "4  POINT(-46.7023257 -23.5653763)  "
            ],
            "text/html": [
              "\n",
              "  <div id=\"df-4c54d514-5495-402e-bd29-c7a8e3b651c6\" class=\"colab-df-container\">\n",
              "    <div>\n",
              "<style scoped>\n",
              "    .dataframe tbody tr th:only-of-type {\n",
              "        vertical-align: middle;\n",
              "    }\n",
              "\n",
              "    .dataframe tbody tr th {\n",
              "        vertical-align: top;\n",
              "    }\n",
              "\n",
              "    .dataframe thead th {\n",
              "        text-align: right;\n",
              "    }\n",
              "</style>\n",
              "<table border=\"1\" class=\"dataframe\">\n",
              "  <thead>\n",
              "    <tr style=\"text-align: right;\">\n",
              "      <th></th>\n",
              "      <th>cep</th>\n",
              "      <th>logradouro</th>\n",
              "      <th>bairro</th>\n",
              "      <th>cidade</th>\n",
              "      <th>valor_construcao</th>\n",
              "      <th>centroide</th>\n",
              "    </tr>\n",
              "  </thead>\n",
              "  <tbody>\n",
              "    <tr>\n",
              "      <th>0</th>\n",
              "      <td>05005900</td>\n",
              "      <td>Rua Palestra Itália, 500</td>\n",
              "      <td>Perdizes</td>\n",
              "      <td>São Paulo</td>\n",
              "      <td>39980.0</td>\n",
              "      <td>POINT(-46.6808813 -23.5264274)</td>\n",
              "    </tr>\n",
              "    <tr>\n",
              "      <th>1</th>\n",
              "      <td>04543907</td>\n",
              "      <td>Avenida Presidente Juscelino Kubitschek, 1909</td>\n",
              "      <td>Vila Nova Conceição</td>\n",
              "      <td>São Paulo</td>\n",
              "      <td>39980.0</td>\n",
              "      <td>POINT(-46.6878048 -23.5911938)</td>\n",
              "    </tr>\n",
              "    <tr>\n",
              "      <th>2</th>\n",
              "      <td>04005912</td>\n",
              "      <td>Rua Curitiba, 195</td>\n",
              "      <td>Paraíso</td>\n",
              "      <td>São Paulo</td>\n",
              "      <td>38610.0</td>\n",
              "      <td>POINT(-46.6536281 -23.5815795)</td>\n",
              "    </tr>\n",
              "    <tr>\n",
              "      <th>3</th>\n",
              "      <td>01311924</td>\n",
              "      <td>Avenida Paulista, 1345</td>\n",
              "      <td>Bela Vista</td>\n",
              "      <td>São Paulo</td>\n",
              "      <td>36590.0</td>\n",
              "      <td>POINT(-46.6548193 -23.563233)</td>\n",
              "    </tr>\n",
              "    <tr>\n",
              "      <th>4</th>\n",
              "      <td>05425902</td>\n",
              "      <td>Avenida das Nações Unidas, 7221</td>\n",
              "      <td>Pinheiros</td>\n",
              "      <td>São Paulo</td>\n",
              "      <td>36590.0</td>\n",
              "      <td>POINT(-46.7023257 -23.5653763)</td>\n",
              "    </tr>\n",
              "  </tbody>\n",
              "</table>\n",
              "</div>\n",
              "    <div class=\"colab-df-buttons\">\n",
              "\n",
              "  <div class=\"colab-df-container\">\n",
              "    <button class=\"colab-df-convert\" onclick=\"convertToInteractive('df-4c54d514-5495-402e-bd29-c7a8e3b651c6')\"\n",
              "            title=\"Convert this dataframe to an interactive table.\"\n",
              "            style=\"display:none;\">\n",
              "\n",
              "  <svg xmlns=\"http://www.w3.org/2000/svg\" height=\"24px\" viewBox=\"0 -960 960 960\">\n",
              "    <path d=\"M120-120v-720h720v720H120Zm60-500h600v-160H180v160Zm220 220h160v-160H400v160Zm0 220h160v-160H400v160ZM180-400h160v-160H180v160Zm440 0h160v-160H620v160ZM180-180h160v-160H180v160Zm440 0h160v-160H620v160Z\"/>\n",
              "  </svg>\n",
              "    </button>\n",
              "\n",
              "  <style>\n",
              "    .colab-df-container {\n",
              "      display:flex;\n",
              "      gap: 12px;\n",
              "    }\n",
              "\n",
              "    .colab-df-convert {\n",
              "      background-color: #E8F0FE;\n",
              "      border: none;\n",
              "      border-radius: 50%;\n",
              "      cursor: pointer;\n",
              "      display: none;\n",
              "      fill: #1967D2;\n",
              "      height: 32px;\n",
              "      padding: 0 0 0 0;\n",
              "      width: 32px;\n",
              "    }\n",
              "\n",
              "    .colab-df-convert:hover {\n",
              "      background-color: #E2EBFA;\n",
              "      box-shadow: 0px 1px 2px rgba(60, 64, 67, 0.3), 0px 1px 3px 1px rgba(60, 64, 67, 0.15);\n",
              "      fill: #174EA6;\n",
              "    }\n",
              "\n",
              "    .colab-df-buttons div {\n",
              "      margin-bottom: 4px;\n",
              "    }\n",
              "\n",
              "    [theme=dark] .colab-df-convert {\n",
              "      background-color: #3B4455;\n",
              "      fill: #D2E3FC;\n",
              "    }\n",
              "\n",
              "    [theme=dark] .colab-df-convert:hover {\n",
              "      background-color: #434B5C;\n",
              "      box-shadow: 0px 1px 3px 1px rgba(0, 0, 0, 0.15);\n",
              "      filter: drop-shadow(0px 1px 2px rgba(0, 0, 0, 0.3));\n",
              "      fill: #FFFFFF;\n",
              "    }\n",
              "  </style>\n",
              "\n",
              "    <script>\n",
              "      const buttonEl =\n",
              "        document.querySelector('#df-4c54d514-5495-402e-bd29-c7a8e3b651c6 button.colab-df-convert');\n",
              "      buttonEl.style.display =\n",
              "        google.colab.kernel.accessAllowed ? 'block' : 'none';\n",
              "\n",
              "      async function convertToInteractive(key) {\n",
              "        const element = document.querySelector('#df-4c54d514-5495-402e-bd29-c7a8e3b651c6');\n",
              "        const dataTable =\n",
              "          await google.colab.kernel.invokeFunction('convertToInteractive',\n",
              "                                                    [key], {});\n",
              "        if (!dataTable) return;\n",
              "\n",
              "        const docLinkHtml = 'Like what you see? Visit the ' +\n",
              "          '<a target=\"_blank\" href=https://colab.research.google.com/notebooks/data_table.ipynb>data table notebook</a>'\n",
              "          + ' to learn more about interactive tables.';\n",
              "        element.innerHTML = '';\n",
              "        dataTable['output_type'] = 'display_data';\n",
              "        await google.colab.output.renderOutput(dataTable, element);\n",
              "        const docLink = document.createElement('div');\n",
              "        docLink.innerHTML = docLinkHtml;\n",
              "        element.appendChild(docLink);\n",
              "      }\n",
              "    </script>\n",
              "  </div>\n",
              "\n",
              "\n",
              "<div id=\"df-ce299010-bcdf-4dfb-92e9-fccc6d604247\">\n",
              "  <button class=\"colab-df-quickchart\" onclick=\"quickchart('df-ce299010-bcdf-4dfb-92e9-fccc6d604247')\"\n",
              "            title=\"Suggest charts.\"\n",
              "            style=\"display:none;\">\n",
              "\n",
              "<svg xmlns=\"http://www.w3.org/2000/svg\" height=\"24px\"viewBox=\"0 0 24 24\"\n",
              "     width=\"24px\">\n",
              "    <g>\n",
              "        <path d=\"M19 3H5c-1.1 0-2 .9-2 2v14c0 1.1.9 2 2 2h14c1.1 0 2-.9 2-2V5c0-1.1-.9-2-2-2zM9 17H7v-7h2v7zm4 0h-2V7h2v10zm4 0h-2v-4h2v4z\"/>\n",
              "    </g>\n",
              "</svg>\n",
              "  </button>\n",
              "\n",
              "<style>\n",
              "  .colab-df-quickchart {\n",
              "      --bg-color: #E8F0FE;\n",
              "      --fill-color: #1967D2;\n",
              "      --hover-bg-color: #E2EBFA;\n",
              "      --hover-fill-color: #174EA6;\n",
              "      --disabled-fill-color: #AAA;\n",
              "      --disabled-bg-color: #DDD;\n",
              "  }\n",
              "\n",
              "  [theme=dark] .colab-df-quickchart {\n",
              "      --bg-color: #3B4455;\n",
              "      --fill-color: #D2E3FC;\n",
              "      --hover-bg-color: #434B5C;\n",
              "      --hover-fill-color: #FFFFFF;\n",
              "      --disabled-bg-color: #3B4455;\n",
              "      --disabled-fill-color: #666;\n",
              "  }\n",
              "\n",
              "  .colab-df-quickchart {\n",
              "    background-color: var(--bg-color);\n",
              "    border: none;\n",
              "    border-radius: 50%;\n",
              "    cursor: pointer;\n",
              "    display: none;\n",
              "    fill: var(--fill-color);\n",
              "    height: 32px;\n",
              "    padding: 0;\n",
              "    width: 32px;\n",
              "  }\n",
              "\n",
              "  .colab-df-quickchart:hover {\n",
              "    background-color: var(--hover-bg-color);\n",
              "    box-shadow: 0 1px 2px rgba(60, 64, 67, 0.3), 0 1px 3px 1px rgba(60, 64, 67, 0.15);\n",
              "    fill: var(--button-hover-fill-color);\n",
              "  }\n",
              "\n",
              "  .colab-df-quickchart-complete:disabled,\n",
              "  .colab-df-quickchart-complete:disabled:hover {\n",
              "    background-color: var(--disabled-bg-color);\n",
              "    fill: var(--disabled-fill-color);\n",
              "    box-shadow: none;\n",
              "  }\n",
              "\n",
              "  .colab-df-spinner {\n",
              "    border: 2px solid var(--fill-color);\n",
              "    border-color: transparent;\n",
              "    border-bottom-color: var(--fill-color);\n",
              "    animation:\n",
              "      spin 1s steps(1) infinite;\n",
              "  }\n",
              "\n",
              "  @keyframes spin {\n",
              "    0% {\n",
              "      border-color: transparent;\n",
              "      border-bottom-color: var(--fill-color);\n",
              "      border-left-color: var(--fill-color);\n",
              "    }\n",
              "    20% {\n",
              "      border-color: transparent;\n",
              "      border-left-color: var(--fill-color);\n",
              "      border-top-color: var(--fill-color);\n",
              "    }\n",
              "    30% {\n",
              "      border-color: transparent;\n",
              "      border-left-color: var(--fill-color);\n",
              "      border-top-color: var(--fill-color);\n",
              "      border-right-color: var(--fill-color);\n",
              "    }\n",
              "    40% {\n",
              "      border-color: transparent;\n",
              "      border-right-color: var(--fill-color);\n",
              "      border-top-color: var(--fill-color);\n",
              "    }\n",
              "    60% {\n",
              "      border-color: transparent;\n",
              "      border-right-color: var(--fill-color);\n",
              "    }\n",
              "    80% {\n",
              "      border-color: transparent;\n",
              "      border-right-color: var(--fill-color);\n",
              "      border-bottom-color: var(--fill-color);\n",
              "    }\n",
              "    90% {\n",
              "      border-color: transparent;\n",
              "      border-bottom-color: var(--fill-color);\n",
              "    }\n",
              "  }\n",
              "</style>\n",
              "\n",
              "  <script>\n",
              "    async function quickchart(key) {\n",
              "      const quickchartButtonEl =\n",
              "        document.querySelector('#' + key + ' button');\n",
              "      quickchartButtonEl.disabled = true;  // To prevent multiple clicks.\n",
              "      quickchartButtonEl.classList.add('colab-df-spinner');\n",
              "      try {\n",
              "        const charts = await google.colab.kernel.invokeFunction(\n",
              "            'suggestCharts', [key], {});\n",
              "      } catch (error) {\n",
              "        console.error('Error during call to suggestCharts:', error);\n",
              "      }\n",
              "      quickchartButtonEl.classList.remove('colab-df-spinner');\n",
              "      quickchartButtonEl.classList.add('colab-df-quickchart-complete');\n",
              "    }\n",
              "    (() => {\n",
              "      let quickchartButtonEl =\n",
              "        document.querySelector('#df-ce299010-bcdf-4dfb-92e9-fccc6d604247 button');\n",
              "      quickchartButtonEl.style.display =\n",
              "        google.colab.kernel.accessAllowed ? 'block' : 'none';\n",
              "    })();\n",
              "  </script>\n",
              "</div>\n",
              "    </div>\n",
              "  </div>\n"
            ]
          },
          "metadata": {},
          "execution_count": 6
        }
      ]
    },
    {
      "cell_type": "markdown",
      "source": [
        "In the context of using geospatial data in BigQuery, it is necessary to correct them when importing them into Python. This is because the pandas backend (which the Base dos Dados package uses) does not support geospatial data.\n"
      ],
      "metadata": {
        "id": "WFOFI7znT2ff"
      }
    },
    {
      "cell_type": "code",
      "source": [
        "# Are all observations wkt Points?\n",
        "from shapely.geometry import Point\n",
        "df['centroide'].apply(lambda x: isinstance(x, Point)).all()"
      ],
      "metadata": {
        "id": "qaAH3xuzv8oI",
        "outputId": "4286170f-bddc-4ba5-c993-bb98d490e238",
        "colab": {
          "base_uri": "https://localhost:8080/"
        }
      },
      "execution_count": 7,
      "outputs": [
        {
          "output_type": "execute_result",
          "data": {
            "text/plain": [
              "False"
            ]
          },
          "metadata": {},
          "execution_count": 7
        }
      ]
    },
    {
      "cell_type": "markdown",
      "source": [
        "The correct of points:"
      ],
      "metadata": {
        "id": "erHB0kbqz38x"
      }
    },
    {
      "cell_type": "code",
      "source": [
        "df.loc[~df['centroide'].apply(lambda x: isinstance(x, Point))]\n",
        "#Nothings change, but the data has the atribbute to transform in geospatial dataframe."
      ],
      "metadata": {
        "id": "tI1rx18qzhWZ",
        "outputId": "60a6e234-7aac-47fa-92a0-87886fd9e690",
        "colab": {
          "base_uri": "https://localhost:8080/",
          "height": 424
        }
      },
      "execution_count": 8,
      "outputs": [
        {
          "output_type": "execute_result",
          "data": {
            "text/plain": [
              "           cep                                     logradouro  \\\n",
              "0     05005900                       Rua Palestra Itália, 500   \n",
              "1     04543907  Avenida Presidente Juscelino Kubitschek, 1909   \n",
              "2     04005912                              Rua Curitiba, 195   \n",
              "3     01311924                         Avenida Paulista, 1345   \n",
              "4     05425902                Avenida das Nações Unidas, 7221   \n",
              "...        ...                                            ...   \n",
              "1969  08411520                                    Rua Marmelo   \n",
              "1970  08471220                           Rua Eduardo Vassimon   \n",
              "1971  08472115                     Rua Cachoeira das Jangadas   \n",
              "1972  03927200                         Passagem Leopoldo Abel   \n",
              "1973  04883070                   Rua Joanna de Almeida Cintra   \n",
              "\n",
              "                                     bairro     cidade  valor_construcao  \\\n",
              "0                                  Perdizes  São Paulo      39980.000000   \n",
              "1                       Vila Nova Conceição  São Paulo      39980.000000   \n",
              "2                                   Paraíso  São Paulo      38610.000000   \n",
              "3                                Bela Vista  São Paulo      36590.000000   \n",
              "4                                 Pinheiros  São Paulo      36590.000000   \n",
              "...                                     ...        ...               ...   \n",
              "1969         Jardim São Carlos (Zona Leste)  São Paulo      12231.807229   \n",
              "1970                      Cidade Tiradentes  São Paulo      12249.166667   \n",
              "1971  Conjunto Habitacional Inácio Monteiro  São Paulo      12255.897436   \n",
              "1972            Conjunto Promorar Sapopemba  São Paulo      12293.684211   \n",
              "1973                          Jardim Aladim  São Paulo      12301.724138   \n",
              "\n",
              "                           centroide  \n",
              "0     POINT(-46.6808813 -23.5264274)  \n",
              "1     POINT(-46.6878048 -23.5911938)  \n",
              "2     POINT(-46.6536281 -23.5815795)  \n",
              "3      POINT(-46.6548193 -23.563233)  \n",
              "4     POINT(-46.7023257 -23.5653763)  \n",
              "...                              ...  \n",
              "1969  POINT(-46.4114702 -23.5572795)  \n",
              "1970   POINT(-46.399811 -23.6017544)  \n",
              "1971  POINT(-46.4013614 -23.5719468)  \n",
              "1972  POINT(-46.4976727 -23.6043551)  \n",
              "1973  POINT(-46.7381167 -23.8105694)  \n",
              "\n",
              "[1974 rows x 6 columns]"
            ],
            "text/html": [
              "\n",
              "  <div id=\"df-b4de68c7-a2ad-4281-acc3-f3cfa13fb654\" class=\"colab-df-container\">\n",
              "    <div>\n",
              "<style scoped>\n",
              "    .dataframe tbody tr th:only-of-type {\n",
              "        vertical-align: middle;\n",
              "    }\n",
              "\n",
              "    .dataframe tbody tr th {\n",
              "        vertical-align: top;\n",
              "    }\n",
              "\n",
              "    .dataframe thead th {\n",
              "        text-align: right;\n",
              "    }\n",
              "</style>\n",
              "<table border=\"1\" class=\"dataframe\">\n",
              "  <thead>\n",
              "    <tr style=\"text-align: right;\">\n",
              "      <th></th>\n",
              "      <th>cep</th>\n",
              "      <th>logradouro</th>\n",
              "      <th>bairro</th>\n",
              "      <th>cidade</th>\n",
              "      <th>valor_construcao</th>\n",
              "      <th>centroide</th>\n",
              "    </tr>\n",
              "  </thead>\n",
              "  <tbody>\n",
              "    <tr>\n",
              "      <th>0</th>\n",
              "      <td>05005900</td>\n",
              "      <td>Rua Palestra Itália, 500</td>\n",
              "      <td>Perdizes</td>\n",
              "      <td>São Paulo</td>\n",
              "      <td>39980.000000</td>\n",
              "      <td>POINT(-46.6808813 -23.5264274)</td>\n",
              "    </tr>\n",
              "    <tr>\n",
              "      <th>1</th>\n",
              "      <td>04543907</td>\n",
              "      <td>Avenida Presidente Juscelino Kubitschek, 1909</td>\n",
              "      <td>Vila Nova Conceição</td>\n",
              "      <td>São Paulo</td>\n",
              "      <td>39980.000000</td>\n",
              "      <td>POINT(-46.6878048 -23.5911938)</td>\n",
              "    </tr>\n",
              "    <tr>\n",
              "      <th>2</th>\n",
              "      <td>04005912</td>\n",
              "      <td>Rua Curitiba, 195</td>\n",
              "      <td>Paraíso</td>\n",
              "      <td>São Paulo</td>\n",
              "      <td>38610.000000</td>\n",
              "      <td>POINT(-46.6536281 -23.5815795)</td>\n",
              "    </tr>\n",
              "    <tr>\n",
              "      <th>3</th>\n",
              "      <td>01311924</td>\n",
              "      <td>Avenida Paulista, 1345</td>\n",
              "      <td>Bela Vista</td>\n",
              "      <td>São Paulo</td>\n",
              "      <td>36590.000000</td>\n",
              "      <td>POINT(-46.6548193 -23.563233)</td>\n",
              "    </tr>\n",
              "    <tr>\n",
              "      <th>4</th>\n",
              "      <td>05425902</td>\n",
              "      <td>Avenida das Nações Unidas, 7221</td>\n",
              "      <td>Pinheiros</td>\n",
              "      <td>São Paulo</td>\n",
              "      <td>36590.000000</td>\n",
              "      <td>POINT(-46.7023257 -23.5653763)</td>\n",
              "    </tr>\n",
              "    <tr>\n",
              "      <th>...</th>\n",
              "      <td>...</td>\n",
              "      <td>...</td>\n",
              "      <td>...</td>\n",
              "      <td>...</td>\n",
              "      <td>...</td>\n",
              "      <td>...</td>\n",
              "    </tr>\n",
              "    <tr>\n",
              "      <th>1969</th>\n",
              "      <td>08411520</td>\n",
              "      <td>Rua Marmelo</td>\n",
              "      <td>Jardim São Carlos (Zona Leste)</td>\n",
              "      <td>São Paulo</td>\n",
              "      <td>12231.807229</td>\n",
              "      <td>POINT(-46.4114702 -23.5572795)</td>\n",
              "    </tr>\n",
              "    <tr>\n",
              "      <th>1970</th>\n",
              "      <td>08471220</td>\n",
              "      <td>Rua Eduardo Vassimon</td>\n",
              "      <td>Cidade Tiradentes</td>\n",
              "      <td>São Paulo</td>\n",
              "      <td>12249.166667</td>\n",
              "      <td>POINT(-46.399811 -23.6017544)</td>\n",
              "    </tr>\n",
              "    <tr>\n",
              "      <th>1971</th>\n",
              "      <td>08472115</td>\n",
              "      <td>Rua Cachoeira das Jangadas</td>\n",
              "      <td>Conjunto Habitacional Inácio Monteiro</td>\n",
              "      <td>São Paulo</td>\n",
              "      <td>12255.897436</td>\n",
              "      <td>POINT(-46.4013614 -23.5719468)</td>\n",
              "    </tr>\n",
              "    <tr>\n",
              "      <th>1972</th>\n",
              "      <td>03927200</td>\n",
              "      <td>Passagem Leopoldo Abel</td>\n",
              "      <td>Conjunto Promorar Sapopemba</td>\n",
              "      <td>São Paulo</td>\n",
              "      <td>12293.684211</td>\n",
              "      <td>POINT(-46.4976727 -23.6043551)</td>\n",
              "    </tr>\n",
              "    <tr>\n",
              "      <th>1973</th>\n",
              "      <td>04883070</td>\n",
              "      <td>Rua Joanna de Almeida Cintra</td>\n",
              "      <td>Jardim Aladim</td>\n",
              "      <td>São Paulo</td>\n",
              "      <td>12301.724138</td>\n",
              "      <td>POINT(-46.7381167 -23.8105694)</td>\n",
              "    </tr>\n",
              "  </tbody>\n",
              "</table>\n",
              "<p>1974 rows × 6 columns</p>\n",
              "</div>\n",
              "    <div class=\"colab-df-buttons\">\n",
              "\n",
              "  <div class=\"colab-df-container\">\n",
              "    <button class=\"colab-df-convert\" onclick=\"convertToInteractive('df-b4de68c7-a2ad-4281-acc3-f3cfa13fb654')\"\n",
              "            title=\"Convert this dataframe to an interactive table.\"\n",
              "            style=\"display:none;\">\n",
              "\n",
              "  <svg xmlns=\"http://www.w3.org/2000/svg\" height=\"24px\" viewBox=\"0 -960 960 960\">\n",
              "    <path d=\"M120-120v-720h720v720H120Zm60-500h600v-160H180v160Zm220 220h160v-160H400v160Zm0 220h160v-160H400v160ZM180-400h160v-160H180v160Zm440 0h160v-160H620v160ZM180-180h160v-160H180v160Zm440 0h160v-160H620v160Z\"/>\n",
              "  </svg>\n",
              "    </button>\n",
              "\n",
              "  <style>\n",
              "    .colab-df-container {\n",
              "      display:flex;\n",
              "      gap: 12px;\n",
              "    }\n",
              "\n",
              "    .colab-df-convert {\n",
              "      background-color: #E8F0FE;\n",
              "      border: none;\n",
              "      border-radius: 50%;\n",
              "      cursor: pointer;\n",
              "      display: none;\n",
              "      fill: #1967D2;\n",
              "      height: 32px;\n",
              "      padding: 0 0 0 0;\n",
              "      width: 32px;\n",
              "    }\n",
              "\n",
              "    .colab-df-convert:hover {\n",
              "      background-color: #E2EBFA;\n",
              "      box-shadow: 0px 1px 2px rgba(60, 64, 67, 0.3), 0px 1px 3px 1px rgba(60, 64, 67, 0.15);\n",
              "      fill: #174EA6;\n",
              "    }\n",
              "\n",
              "    .colab-df-buttons div {\n",
              "      margin-bottom: 4px;\n",
              "    }\n",
              "\n",
              "    [theme=dark] .colab-df-convert {\n",
              "      background-color: #3B4455;\n",
              "      fill: #D2E3FC;\n",
              "    }\n",
              "\n",
              "    [theme=dark] .colab-df-convert:hover {\n",
              "      background-color: #434B5C;\n",
              "      box-shadow: 0px 1px 3px 1px rgba(0, 0, 0, 0.15);\n",
              "      filter: drop-shadow(0px 1px 2px rgba(0, 0, 0, 0.3));\n",
              "      fill: #FFFFFF;\n",
              "    }\n",
              "  </style>\n",
              "\n",
              "    <script>\n",
              "      const buttonEl =\n",
              "        document.querySelector('#df-b4de68c7-a2ad-4281-acc3-f3cfa13fb654 button.colab-df-convert');\n",
              "      buttonEl.style.display =\n",
              "        google.colab.kernel.accessAllowed ? 'block' : 'none';\n",
              "\n",
              "      async function convertToInteractive(key) {\n",
              "        const element = document.querySelector('#df-b4de68c7-a2ad-4281-acc3-f3cfa13fb654');\n",
              "        const dataTable =\n",
              "          await google.colab.kernel.invokeFunction('convertToInteractive',\n",
              "                                                    [key], {});\n",
              "        if (!dataTable) return;\n",
              "\n",
              "        const docLinkHtml = 'Like what you see? Visit the ' +\n",
              "          '<a target=\"_blank\" href=https://colab.research.google.com/notebooks/data_table.ipynb>data table notebook</a>'\n",
              "          + ' to learn more about interactive tables.';\n",
              "        element.innerHTML = '';\n",
              "        dataTable['output_type'] = 'display_data';\n",
              "        await google.colab.output.renderOutput(dataTable, element);\n",
              "        const docLink = document.createElement('div');\n",
              "        docLink.innerHTML = docLinkHtml;\n",
              "        element.appendChild(docLink);\n",
              "      }\n",
              "    </script>\n",
              "  </div>\n",
              "\n",
              "\n",
              "<div id=\"df-09b46de8-28e9-4d0e-bde8-6d089b1ba56e\">\n",
              "  <button class=\"colab-df-quickchart\" onclick=\"quickchart('df-09b46de8-28e9-4d0e-bde8-6d089b1ba56e')\"\n",
              "            title=\"Suggest charts.\"\n",
              "            style=\"display:none;\">\n",
              "\n",
              "<svg xmlns=\"http://www.w3.org/2000/svg\" height=\"24px\"viewBox=\"0 0 24 24\"\n",
              "     width=\"24px\">\n",
              "    <g>\n",
              "        <path d=\"M19 3H5c-1.1 0-2 .9-2 2v14c0 1.1.9 2 2 2h14c1.1 0 2-.9 2-2V5c0-1.1-.9-2-2-2zM9 17H7v-7h2v7zm4 0h-2V7h2v10zm4 0h-2v-4h2v4z\"/>\n",
              "    </g>\n",
              "</svg>\n",
              "  </button>\n",
              "\n",
              "<style>\n",
              "  .colab-df-quickchart {\n",
              "      --bg-color: #E8F0FE;\n",
              "      --fill-color: #1967D2;\n",
              "      --hover-bg-color: #E2EBFA;\n",
              "      --hover-fill-color: #174EA6;\n",
              "      --disabled-fill-color: #AAA;\n",
              "      --disabled-bg-color: #DDD;\n",
              "  }\n",
              "\n",
              "  [theme=dark] .colab-df-quickchart {\n",
              "      --bg-color: #3B4455;\n",
              "      --fill-color: #D2E3FC;\n",
              "      --hover-bg-color: #434B5C;\n",
              "      --hover-fill-color: #FFFFFF;\n",
              "      --disabled-bg-color: #3B4455;\n",
              "      --disabled-fill-color: #666;\n",
              "  }\n",
              "\n",
              "  .colab-df-quickchart {\n",
              "    background-color: var(--bg-color);\n",
              "    border: none;\n",
              "    border-radius: 50%;\n",
              "    cursor: pointer;\n",
              "    display: none;\n",
              "    fill: var(--fill-color);\n",
              "    height: 32px;\n",
              "    padding: 0;\n",
              "    width: 32px;\n",
              "  }\n",
              "\n",
              "  .colab-df-quickchart:hover {\n",
              "    background-color: var(--hover-bg-color);\n",
              "    box-shadow: 0 1px 2px rgba(60, 64, 67, 0.3), 0 1px 3px 1px rgba(60, 64, 67, 0.15);\n",
              "    fill: var(--button-hover-fill-color);\n",
              "  }\n",
              "\n",
              "  .colab-df-quickchart-complete:disabled,\n",
              "  .colab-df-quickchart-complete:disabled:hover {\n",
              "    background-color: var(--disabled-bg-color);\n",
              "    fill: var(--disabled-fill-color);\n",
              "    box-shadow: none;\n",
              "  }\n",
              "\n",
              "  .colab-df-spinner {\n",
              "    border: 2px solid var(--fill-color);\n",
              "    border-color: transparent;\n",
              "    border-bottom-color: var(--fill-color);\n",
              "    animation:\n",
              "      spin 1s steps(1) infinite;\n",
              "  }\n",
              "\n",
              "  @keyframes spin {\n",
              "    0% {\n",
              "      border-color: transparent;\n",
              "      border-bottom-color: var(--fill-color);\n",
              "      border-left-color: var(--fill-color);\n",
              "    }\n",
              "    20% {\n",
              "      border-color: transparent;\n",
              "      border-left-color: var(--fill-color);\n",
              "      border-top-color: var(--fill-color);\n",
              "    }\n",
              "    30% {\n",
              "      border-color: transparent;\n",
              "      border-left-color: var(--fill-color);\n",
              "      border-top-color: var(--fill-color);\n",
              "      border-right-color: var(--fill-color);\n",
              "    }\n",
              "    40% {\n",
              "      border-color: transparent;\n",
              "      border-right-color: var(--fill-color);\n",
              "      border-top-color: var(--fill-color);\n",
              "    }\n",
              "    60% {\n",
              "      border-color: transparent;\n",
              "      border-right-color: var(--fill-color);\n",
              "    }\n",
              "    80% {\n",
              "      border-color: transparent;\n",
              "      border-right-color: var(--fill-color);\n",
              "      border-bottom-color: var(--fill-color);\n",
              "    }\n",
              "    90% {\n",
              "      border-color: transparent;\n",
              "      border-bottom-color: var(--fill-color);\n",
              "    }\n",
              "  }\n",
              "</style>\n",
              "\n",
              "  <script>\n",
              "    async function quickchart(key) {\n",
              "      const quickchartButtonEl =\n",
              "        document.querySelector('#' + key + ' button');\n",
              "      quickchartButtonEl.disabled = true;  // To prevent multiple clicks.\n",
              "      quickchartButtonEl.classList.add('colab-df-spinner');\n",
              "      try {\n",
              "        const charts = await google.colab.kernel.invokeFunction(\n",
              "            'suggestCharts', [key], {});\n",
              "      } catch (error) {\n",
              "        console.error('Error during call to suggestCharts:', error);\n",
              "      }\n",
              "      quickchartButtonEl.classList.remove('colab-df-spinner');\n",
              "      quickchartButtonEl.classList.add('colab-df-quickchart-complete');\n",
              "    }\n",
              "    (() => {\n",
              "      let quickchartButtonEl =\n",
              "        document.querySelector('#df-09b46de8-28e9-4d0e-bde8-6d089b1ba56e button');\n",
              "      quickchartButtonEl.style.display =\n",
              "        google.colab.kernel.accessAllowed ? 'block' : 'none';\n",
              "    })();\n",
              "  </script>\n",
              "</div>\n",
              "    </div>\n",
              "  </div>\n"
            ]
          },
          "metadata": {},
          "execution_count": 8
        }
      ]
    },
    {
      "cell_type": "code",
      "source": [
        "# Check for the invalid value:\n",
        "for value in df['centroide']:\n",
        "    try:\n",
        "        shapely.wkt.loads(value)\n",
        "    except:\n",
        "        print(f\"Invalid WKT: {value}\")\n",
        "\n",
        "#No error :)"
      ],
      "metadata": {
        "id": "1pOtauqo0J_q"
      },
      "execution_count": 9,
      "outputs": []
    },
    {
      "cell_type": "code",
      "source": [
        "# Now lets transform to a wkt Point:\n",
        "df['centroide'] = df['centroide'].apply(lambda s: shapely.wkt.loads(s))"
      ],
      "metadata": {
        "id": "68IUbt3i0ebJ"
      },
      "execution_count": 10,
      "outputs": []
    },
    {
      "cell_type": "code",
      "source": [
        "# And to a Geospatial Dataframe with 4326 EPSG\n",
        "gdf = gpd.GeoDataFrame(df, geometry='centroide', crs='EPSG:4326')"
      ],
      "metadata": {
        "id": "Df4FKNse0kua"
      },
      "execution_count": 11,
      "outputs": []
    },
    {
      "cell_type": "code",
      "source": [
        "# Now, lets import the geometry of São Paulo City to plot in the same map of the m² values\n",
        "query = '''\n",
        "SELECT * FROM `basedosdados.br_geobr_mapas.municipio`\n",
        "WHERE id_municipio = '3550308'\n",
        "'''\n",
        "sp = bd.read_sql(query, billing_project_id='basedosdados-dev')"
      ],
      "metadata": {
        "id": "iKxWTer70pT4",
        "outputId": "e4863ccf-f553-4717-e7da-4283e278eec8",
        "colab": {
          "base_uri": "https://localhost:8080/"
        }
      },
      "execution_count": 15,
      "outputs": [
        {
          "output_type": "stream",
          "name": "stderr",
          "text": [
            "Downloading: 100%|██████████| 1/1 [00:00<00:00,  5.71rows/s]\n"
          ]
        }
      ]
    },
    {
      "cell_type": "code",
      "source": [
        "#Geometry Correction\n",
        "sp['geometria'] = sp['geometria'].apply(wkt.loads)\n",
        "sp = gpd.GeoDataFrame(sp, geometry='geometria')\n",
        "sp.head()"
      ],
      "metadata": {
        "id": "frQY8wh4V5OX",
        "outputId": "4da9a05a-6e76-4d12-d7de-aaa48289dad5",
        "colab": {
          "base_uri": "https://localhost:8080/",
          "height": 81
        }
      },
      "execution_count": 16,
      "outputs": [
        {
          "output_type": "execute_result",
          "data": {
            "text/plain": [
              "  id_municipio sigla_uf                                          geometria\n",
              "0      3550308       SP  POLYGON ((-46.57547 -23.37402, -46.57276 -23.3..."
            ],
            "text/html": [
              "\n",
              "  <div id=\"df-45ef1dd7-bca4-4d0d-a268-6940e37b0815\" class=\"colab-df-container\">\n",
              "    <div>\n",
              "<style scoped>\n",
              "    .dataframe tbody tr th:only-of-type {\n",
              "        vertical-align: middle;\n",
              "    }\n",
              "\n",
              "    .dataframe tbody tr th {\n",
              "        vertical-align: top;\n",
              "    }\n",
              "\n",
              "    .dataframe thead th {\n",
              "        text-align: right;\n",
              "    }\n",
              "</style>\n",
              "<table border=\"1\" class=\"dataframe\">\n",
              "  <thead>\n",
              "    <tr style=\"text-align: right;\">\n",
              "      <th></th>\n",
              "      <th>id_municipio</th>\n",
              "      <th>sigla_uf</th>\n",
              "      <th>geometria</th>\n",
              "    </tr>\n",
              "  </thead>\n",
              "  <tbody>\n",
              "    <tr>\n",
              "      <th>0</th>\n",
              "      <td>3550308</td>\n",
              "      <td>SP</td>\n",
              "      <td>POLYGON ((-46.57547 -23.37402, -46.57276 -23.3...</td>\n",
              "    </tr>\n",
              "  </tbody>\n",
              "</table>\n",
              "</div>\n",
              "    <div class=\"colab-df-buttons\">\n",
              "\n",
              "  <div class=\"colab-df-container\">\n",
              "    <button class=\"colab-df-convert\" onclick=\"convertToInteractive('df-45ef1dd7-bca4-4d0d-a268-6940e37b0815')\"\n",
              "            title=\"Convert this dataframe to an interactive table.\"\n",
              "            style=\"display:none;\">\n",
              "\n",
              "  <svg xmlns=\"http://www.w3.org/2000/svg\" height=\"24px\" viewBox=\"0 -960 960 960\">\n",
              "    <path d=\"M120-120v-720h720v720H120Zm60-500h600v-160H180v160Zm220 220h160v-160H400v160Zm0 220h160v-160H400v160ZM180-400h160v-160H180v160Zm440 0h160v-160H620v160ZM180-180h160v-160H180v160Zm440 0h160v-160H620v160Z\"/>\n",
              "  </svg>\n",
              "    </button>\n",
              "\n",
              "  <style>\n",
              "    .colab-df-container {\n",
              "      display:flex;\n",
              "      gap: 12px;\n",
              "    }\n",
              "\n",
              "    .colab-df-convert {\n",
              "      background-color: #E8F0FE;\n",
              "      border: none;\n",
              "      border-radius: 50%;\n",
              "      cursor: pointer;\n",
              "      display: none;\n",
              "      fill: #1967D2;\n",
              "      height: 32px;\n",
              "      padding: 0 0 0 0;\n",
              "      width: 32px;\n",
              "    }\n",
              "\n",
              "    .colab-df-convert:hover {\n",
              "      background-color: #E2EBFA;\n",
              "      box-shadow: 0px 1px 2px rgba(60, 64, 67, 0.3), 0px 1px 3px 1px rgba(60, 64, 67, 0.15);\n",
              "      fill: #174EA6;\n",
              "    }\n",
              "\n",
              "    .colab-df-buttons div {\n",
              "      margin-bottom: 4px;\n",
              "    }\n",
              "\n",
              "    [theme=dark] .colab-df-convert {\n",
              "      background-color: #3B4455;\n",
              "      fill: #D2E3FC;\n",
              "    }\n",
              "\n",
              "    [theme=dark] .colab-df-convert:hover {\n",
              "      background-color: #434B5C;\n",
              "      box-shadow: 0px 1px 3px 1px rgba(0, 0, 0, 0.15);\n",
              "      filter: drop-shadow(0px 1px 2px rgba(0, 0, 0, 0.3));\n",
              "      fill: #FFFFFF;\n",
              "    }\n",
              "  </style>\n",
              "\n",
              "    <script>\n",
              "      const buttonEl =\n",
              "        document.querySelector('#df-45ef1dd7-bca4-4d0d-a268-6940e37b0815 button.colab-df-convert');\n",
              "      buttonEl.style.display =\n",
              "        google.colab.kernel.accessAllowed ? 'block' : 'none';\n",
              "\n",
              "      async function convertToInteractive(key) {\n",
              "        const element = document.querySelector('#df-45ef1dd7-bca4-4d0d-a268-6940e37b0815');\n",
              "        const dataTable =\n",
              "          await google.colab.kernel.invokeFunction('convertToInteractive',\n",
              "                                                    [key], {});\n",
              "        if (!dataTable) return;\n",
              "\n",
              "        const docLinkHtml = 'Like what you see? Visit the ' +\n",
              "          '<a target=\"_blank\" href=https://colab.research.google.com/notebooks/data_table.ipynb>data table notebook</a>'\n",
              "          + ' to learn more about interactive tables.';\n",
              "        element.innerHTML = '';\n",
              "        dataTable['output_type'] = 'display_data';\n",
              "        await google.colab.output.renderOutput(dataTable, element);\n",
              "        const docLink = document.createElement('div');\n",
              "        docLink.innerHTML = docLinkHtml;\n",
              "        element.appendChild(docLink);\n",
              "      }\n",
              "    </script>\n",
              "  </div>\n",
              "\n",
              "    </div>\n",
              "  </div>\n"
            ]
          },
          "metadata": {},
          "execution_count": 16
        }
      ]
    },
    {
      "cell_type": "code",
      "source": [
        "ax2 = sp.plot(color='white', edgecolor='black', figsize=(15,10))\n",
        "ax = gdf.plot(column='valor_construcao', cmap='cool', markersize=5,\n",
        "              ax = ax2, legend=True,\n",
        "              scheme='EqualInterval')\n",
        "ax.set_title('Construction value per m² in the city of São Paulo in 2023')\n",
        "ax.set_xlabel('Long')\n",
        "ax.set_ylabel('Lat')\n",
        "plt.show()"
      ],
      "metadata": {
        "id": "lpmSvu2M1V3Q",
        "outputId": "829f47a3-02a9-486c-edd4-534fd93f02fd",
        "colab": {
          "base_uri": "https://localhost:8080/",
          "height": 872
        }
      },
      "execution_count": 18,
      "outputs": [
        {
          "output_type": "display_data",
          "data": {
            "text/plain": [
              "<Figure size 1500x1000 with 1 Axes>"
            ],
            "image/png": "[encoded data removed]"
          },
          "metadata": {}
        }
      ]
    }
  ]
}