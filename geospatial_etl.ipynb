{
  "nbformat": 4,
  "nbformat_minor": 0,
  "metadata": {
    "colab": {
      "provenance": [],
      "authorship_tag": "ABX9TyPRtRhgzjgwcoCq8QR/kpZ7",
      "include_colab_link": true
    },
    "kernelspec": {
      "name": "python3",
      "display_name": "Python 3"
    },
    "language_info": {
      "name": "python"
    }
  },
  "cells": [
    {
      "cell_type": "markdown",
      "metadata": {
        "id": "view-in-github",
        "colab_type": "text"
      },
      "source": [
        "<a href=\"https://colab.research.google.com/github/gustavoalcantara/data-porfolio/blob/main/geospatial_etl.ipynb\" target=\"_parent\"><img src=\"https://colab.research.google.com/assets/colab-badge.svg\" alt=\"Open In Colab\"/></a>"
      ]
    },
    {
      "cell_type": "markdown",
      "source": [
        "Adapting geospatial data for BigQuery\n",
        "- Geospatial data holds great importance as it encompasses precise information about the geometry of phenomena or the exact location of objects on the Earth's surface or subsurface. When conducting geospatial analysis in BigQuery, it is necessary for the data to adhere to a standardized format where the geometry type is specified as either \"geography\" or \"geometry\". The provided Colab notebook offers a set of ETL (Extract, Transform, Load) processes that can be employed to convert a .shp file into GeoJSON or WKT formats. Additionally, it demonstrates the practical implementation using the \"basedosdados\" Python package to conduct a basic geospatial analysis.\n"
      ],
      "metadata": {
        "id": "pcEtP82P2IHZ"
      }
    },
    {
      "cell_type": "markdown",
      "source": [
        "Transform to GeoJson"
      ],
      "metadata": {
        "id": "itKpPo9q63ev"
      }
    },
    {
      "cell_type": "code",
      "execution_count": null,
      "metadata": {
        "id": "H2iz2LhQ2GCx"
      },
      "outputs": [],
      "source": [
        "#Installing the packages\n",
        "!pip install geopandas -q\n",
        "!pip install fiona -q\n",
        "!pip install basedosdados -q"
      ]
    },
    {
      "cell_type": "code",
      "source": [
        "#import the packages\n",
        "import geopandas as gpd\n",
        "import basedosdados as bd\n",
        "import pandas as pd\n",
        "import numpy as np"
      ],
      "metadata": {
        "id": "GjRNVJaR4l5V"
      },
      "execution_count": 2,
      "outputs": []
    },
    {
      "cell_type": "code",
      "source": [
        "#Upload of all files from .shp\n",
        "gdf = gpd.read_file('malaria.shp')"
      ],
      "metadata": {
        "id": "73-noLiK4x_E"
      },
      "execution_count": null,
      "outputs": []
    },
    {
      "cell_type": "code",
      "source": [
        "#Convert to a GeoJSON\n",
        "gdf.to_file(filename ='malaria', driver='GeoJSON')"
      ],
      "metadata": {
        "id": "NI_8fGJS5HxA"
      },
      "execution_count": null,
      "outputs": []
    },
    {
      "cell_type": "code",
      "source": [
        "#Reading the archive\n",
        "gdf = gpd.read_file('/content/malaria')"
      ],
      "metadata": {
        "id": "saxs_LTy5QcU"
      },
      "execution_count": null,
      "outputs": []
    },
    {
      "cell_type": "code",
      "source": [
        "#The content of geometry\n",
        "gdf['geometry'].describe()"
      ],
      "metadata": {
        "colab": {
          "base_uri": "https://localhost:8080/"
        },
        "id": "ZAfNB7Ub55Et",
        "outputId": "543c3448-3935-43cf-a414-310aaee21544"
      },
      "execution_count": null,
      "outputs": [
        {
          "output_type": "execute_result",
          "data": {
            "text/plain": [
              "count                               64\n",
              "unique                              64\n",
              "top       POINT (-60.6769333 -2.57989)\n",
              "freq                                 1\n",
              "Name: geometry, dtype: object"
            ]
          },
          "metadata": {},
          "execution_count": 11
        }
      ]
    },
    {
      "cell_type": "code",
      "source": [
        "gdf.plot()"
      ],
      "metadata": {
        "colab": {
          "base_uri": "https://localhost:8080/",
          "height": 447
        },
        "id": "Jz7m_Z4S52O9",
        "outputId": "a7d0e000-691c-4c3f-f30a-79a61e47f844"
      },
      "execution_count": null,
      "outputs": [
        {
          "output_type": "execute_result",
          "data": {
            "text/plain": [
              "<Axes: >"
            ]
          },
          "metadata": {},
          "execution_count": 6
        },
        {
          "output_type": "display_data",
          "data": {
            "text/plain": [
              "<Figure size 640x480 with 1 Axes>"
            ],
            "image/png": "[encoded data removed]"
          },
          "metadata": {}
        }
      ]
    },
    {
      "cell_type": "markdown",
      "source": [
        "Transform to a WKT"
      ],
      "metadata": {
        "id": "-2gVjBLD7ETu"
      }
    },
    {
      "cell_type": "code",
      "source": [
        "#With my previously shapefile added, lets convert to a Well Known Text (WKT)\n",
        "gdf = gpd.read_file('malaria.shp')"
      ],
      "metadata": {
        "id": "sMSRPBTt6xkN"
      },
      "execution_count": null,
      "outputs": []
    },
    {
      "cell_type": "code",
      "source": [
        "#conversion to a wkt/geometry\n",
        "gdf['geometry'] = gdf['geometry'].apply(lambda wkt: loads(wkt))\n",
        "gdf = gdf.set_geometry('geometry')"
      ],
      "metadata": {
        "id": "zbuFCJEC7Tm-"
      },
      "execution_count": null,
      "outputs": []
    },
    {
      "cell_type": "code",
      "source": [
        "gdf['geometry'].describe()"
      ],
      "metadata": {
        "colab": {
          "base_uri": "https://localhost:8080/"
        },
        "id": "Caf2HGtC7g8d",
        "outputId": "a9ed265c-7ba8-4946-d6c2-c9e230262d82"
      },
      "execution_count": null,
      "outputs": [
        {
          "output_type": "execute_result",
          "data": {
            "text/plain": [
              "count                               64\n",
              "unique                              64\n",
              "top       POINT (-60.6769333 -2.57989)\n",
              "freq                                 1\n",
              "Name: geometry, dtype: object"
            ]
          },
          "metadata": {},
          "execution_count": 19
        }
      ]
    },
    {
      "cell_type": "code",
      "source": [
        "#Remember: this points doesnt have a EPSG or Datum.\n",
        "gdf.plot()"
      ],
      "metadata": {
        "colab": {
          "base_uri": "https://localhost:8080/",
          "height": 447
        },
        "id": "Z3zHNbA57lgE",
        "outputId": "7b51fc13-28ab-4dca-c1a1-7ad3817d1219"
      },
      "execution_count": null,
      "outputs": [
        {
          "output_type": "execute_result",
          "data": {
            "text/plain": [
              "<Axes: >"
            ]
          },
          "metadata": {},
          "execution_count": 20
        },
        {
          "output_type": "display_data",
          "data": {
            "text/plain": [
              "<Figure size 640x480 with 1 Axes>"
            ],
            "image/png": "[encoded data removed]"
          },
          "metadata": {}
        }
      ]
    },
    {
      "cell_type": "markdown",
      "source": [
        "Assigning a WKT from a txt/csv file that does not have a prior spatial attribution"
      ],
      "metadata": {
        "id": "ABSqRHJ8V51X"
      }
    },
    {
      "cell_type": "code",
      "source": [
        "#Reading the .txt or .csv\n",
        "x = pd.read_csv('condicao_entrevistado.txt', sep ='\\t')\n",
        "\n",
        "#Assigning the EPSG to declare the lat/long as a spatial file\n",
        "crs = {'init': 'epsg:4326'}\n",
        "\n",
        "#String replace from comma to point of spatial variables\n",
        "x['x'] = x['x'].str.replace(',', '.')\n",
        "x['y'] = x['y'].str.replace(',', '.')\n",
        "\n",
        "#Change to Float64\n",
        "x['x'] = x['x'].astype(np.float64)\n",
        "x['y'] = x['y'].astype(np.float64)\n",
        "\n",
        "#Assigning the geometry variables\n",
        "from shapely.geometry.polygon import Point\n",
        "geometry = [Point(xy) for xy\n",
        "            in zip(x['x'], x['y'])]\n",
        "\n",
        "#For being a point, it became point, if polygon, assign polygon and so on\n",
        "geo_df = gpd.GeoDataFrame(x,\n",
        "                          crs = crs,\n",
        "                          geometry = geometry)\n",
        "geo_df['geometry'].head()"
      ],
      "metadata": {
        "colab": {
          "base_uri": "https://localhost:8080/"
        },
        "id": "J5Wx1tCAV4GE",
        "outputId": "c97c1d90-29e1-4b42-aad6-f1538ab61bb1"
      },
      "execution_count": 4,
      "outputs": [
        {
          "output_type": "execute_result",
          "data": {
            "text/plain": [
              "0    POINT (-60.67693 -2.57989)\n",
              "1    POINT (-60.26111 -3.00310)\n",
              "2    POINT (-60.30543 -3.03741)\n",
              "3    POINT (-60.35581 -3.02633)\n",
              "4    POINT (-60.49681 -2.85660)\n",
              "Name: geometry, dtype: geometry"
            ]
          },
          "metadata": {},
          "execution_count": 4
        }
      ]
    },
    {
      "cell_type": "code",
      "source": [
        "geo_df.plot()"
      ],
      "metadata": {
        "colab": {
          "base_uri": "https://localhost:8080/",
          "height": 447
        },
        "id": "KZRldmYJYC2V",
        "outputId": "81fc8d8e-3dcd-4d4d-ffb6-7d7c4cb73ea8"
      },
      "execution_count": 9,
      "outputs": [
        {
          "output_type": "execute_result",
          "data": {
            "text/plain": [
              "<Axes: >"
            ]
          },
          "metadata": {},
          "execution_count": 9
        },
        {
          "output_type": "display_data",
          "data": {
            "text/plain": [
              "<Figure size 640x480 with 1 Axes>"
            ],
            "image/png": "[encoded data removed]"
          },
          "metadata": {}
        }
      ]
    },
    {
      "cell_type": "markdown",
      "source": [
        "After this treatment, it is possible to upload the spatial variable as geometry to the datalake. I use the .csv format and include the geometry format in the variable’s metadata. For this, I use the basedosdados package in python for filling and validating metadata. In this sense, the generated file follows this metadata standard and you can [check it](https://github.com/basedosdados/mais/blob/master/bases/br_geobr_mapas/municipio/table_config.yaml)\n"
      ],
      "metadata": {
        "id": "BhvLC1jvZ8kt"
      }
    },
    {
      "cell_type": "markdown",
      "source": [
        "Now, let’s use geospatial data to generate a simple visualization in a .sql query of the distribution of bank branches in the city of Americana - SP in March 2020."
      ],
      "metadata": {
        "id": "0OhnGHq7cflN"
      }
    },
    {
      "cell_type": "code",
      "source": [
        "query = '''\n",
        "SELECT instituicao, nome_agencia, fone, logradouro, cnpj, latitude, longitude,\n",
        "ST_GEOGPOINT(longitude, latitude) as geometry\n",
        "FROM basedosdados.br_bcb_agencia.agencia a\n",
        "INNER JOIN basedosdados.br_bd_diretorios_brasil.cep b\n",
        "ON a.cep = b.cep\n",
        "WHERE ano = 2020 AND mes = 3 AND cidade = 'Americana'\n",
        "'''\n",
        "df = bd.read_sql(query, billing_project_id='basedosdados-dev')"
      ],
      "metadata": {
        "colab": {
          "base_uri": "https://localhost:8080/"
        },
        "id": "jz7-kxpPZ6M9",
        "outputId": "51322878-4173-4595-efff-4df395d3a3eb"
      },
      "execution_count": 15,
      "outputs": [
        {
          "output_type": "stream",
          "name": "stderr",
          "text": [
            "Downloading: 100%|██████████| 35/35 [00:00<00:00, 207.47rows/s]\n"
          ]
        }
      ]
    },
    {
      "cell_type": "code",
      "source": [
        "#Stop here\n",
        "df.info()"
      ],
      "metadata": {
        "colab": {
          "base_uri": "https://localhost:8080/"
        },
        "id": "wF8FDBsgdlGF",
        "outputId": "f866bd40-3f2a-45cd-a0cb-8ea26a5263e3"
      },
      "execution_count": 19,
      "outputs": [
        {
          "output_type": "stream",
          "name": "stdout",
          "text": [
            "<class 'pandas.core.frame.DataFrame'>\n",
            "RangeIndex: 35 entries, 0 to 34\n",
            "Data columns (total 8 columns):\n",
            " #   Column        Non-Null Count  Dtype  \n",
            "---  ------        --------------  -----  \n",
            " 0   instituicao   35 non-null     object \n",
            " 1   nome_agencia  35 non-null     object \n",
            " 2   fone          35 non-null     object \n",
            " 3   logradouro    35 non-null     object \n",
            " 4   cnpj          35 non-null     object \n",
            " 5   latitude      35 non-null     float64\n",
            " 6   longitude     35 non-null     float64\n",
            " 7   geometry      35 non-null     object \n",
            "dtypes: float64(2), object(6)\n",
            "memory usage: 2.3+ KB\n"
          ]
        }
      ]
    }
  ]
}