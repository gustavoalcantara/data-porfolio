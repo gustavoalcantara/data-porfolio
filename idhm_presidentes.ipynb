{
  "nbformat": 4,
  "nbformat_minor": 0,
  "metadata": {
    "colab": {
      "provenance": [],
      "authorship_tag": "ABX9TyOUe0FQRcFkKbj9U+DAhogr",
      "include_colab_link": true
    },
    "kernelspec": {
      "name": "python3",
      "display_name": "Python 3"
    },
    "language_info": {
      "name": "python"
    }
  },
  "cells": [
    {
      "cell_type": "markdown",
      "metadata": {
        "id": "view-in-github",
        "colab_type": "text"
      },
      "source": [
        "<a href=\"https://colab.research.google.com/github/gustavoalcantara/portfolio_data/blob/main/idhm_presidentes.ipynb\" target=\"_parent\"><img src=\"https://colab.research.google.com/assets/colab-badge.svg\" alt=\"Open In Colab\"/></a>"
      ]
    },
    {
      "cell_type": "code",
      "execution_count": null,
      "metadata": {
        "id": "hGIZ52IXZXHf"
      },
      "outputs": [],
      "source": [
        "# IN PROGRESS\n",
        "pip install basedosdados -q"
      ]
    },
    {
      "cell_type": "code",
      "source": [
        "import basedosdados as bd"
      ],
      "metadata": {
        "id": "c3JIuRJoZyUu"
      },
      "execution_count": 4,
      "outputs": []
    },
    {
      "cell_type": "code",
      "source": [
        "#Lendo/Acessando o df. a partir do SQL e pacote da Base dos Dados para 2018 no 2º Turno\n",
        "query = '''\n",
        "SELECT \n",
        "  a.sigla_partido,\n",
        "  a.id_municipio, \n",
        "  sum(a.votos) AS total_votos\n",
        "FROM \n",
        "  `basedosdados.br_tse_eleicoes.resultados_candidato_municipio` a\n",
        "INNER JOIN `basedosdados.mundo_onu_adh.municipio` b \n",
        "ON a.id_municipio = b.id_municipio\n",
        "WHERE \n",
        "  a.ano = 2018 AND cargo = 'presidente' AND turno = 2 AND sigla_uf = 'SP'\n",
        "GROUP BY \n",
        "  sigla_partido, id_municipio\n",
        "'''\n",
        "df = bd.read_sql(query, billing_project_id='teste-projeto-bd')"
      ],
      "metadata": {
        "colab": {
          "base_uri": "https://localhost:8080/"
        },
        "id": "4NGdPKO_aQ4l",
        "outputId": "978b74b1-658a-4059-fac1-54f620dc2b85"
      },
      "execution_count": 9,
      "outputs": [
        {
          "output_type": "stream",
          "name": "stderr",
          "text": [
            "Downloading: 100%|██████████| 1290/1290 [00:00<00:00, 7633.83rows/s]\n"
          ]
        }
      ]
    },
    {
      "cell_type": "code",
      "source": [
        "#Calculando Porcentagem de votação cada municipio \n",
        "def calculate_percent(group):\n",
        "    total_votes = group['total_votos'].sum()\n",
        "    group['percent'] = group['total_votos'] / total_votes * 100\n",
        "    return group\n",
        "\n",
        "df = df.groupby('id_municipio').apply(calculate_percent)"
      ],
      "metadata": {
        "id": "k1Mbmz3IwODC"
      },
      "execution_count": 12,
      "outputs": []
    },
    {
      "cell_type": "code",
      "source": [
        "df"
      ],
      "metadata": {
        "colab": {
          "base_uri": "https://localhost:8080/",
          "height": 424
        },
        "id": "qcWnpb5ewyOp",
        "outputId": "277b30b7-3af1-4f2f-8fe7-81ea74e13b63"
      },
      "execution_count": 13,
      "outputs": [
        {
          "output_type": "execute_result",
          "data": {
            "text/plain": [
              "     sigla_partido id_municipio  total_votos    percent\n",
              "0               PT      3500105         9468  17.298838\n",
              "1              PSL      3500105        45264  82.701162\n",
              "2               PT      3500204         1983   24.46336\n",
              "3              PSL      3500204         6123   75.53664\n",
              "4               PT      3500303        13005  28.708609\n",
              "...            ...          ...          ...        ...\n",
              "1285           PSL      3557154         3396  71.239773\n",
              "1286            PT      3557204         5214  27.635554\n",
              "1287           PSL      3557204        13653  72.364446\n",
              "1288            PT      3557303         4185  23.031204\n",
              "1289           PSL      3557303        13986  76.968796\n",
              "\n",
              "[1290 rows x 4 columns]"
            ],
            "text/html": [
              "\n",
              "  <div id=\"df-519b1502-bd4d-47b3-a8bc-5ed41aa26863\">\n",
              "    <div class=\"colab-df-container\">\n",
              "      <div>\n",
              "<style scoped>\n",
              "    .dataframe tbody tr th:only-of-type {\n",
              "        vertical-align: middle;\n",
              "    }\n",
              "\n",
              "    .dataframe tbody tr th {\n",
              "        vertical-align: top;\n",
              "    }\n",
              "\n",
              "    .dataframe thead th {\n",
              "        text-align: right;\n",
              "    }\n",
              "</style>\n",
              "<table border=\"1\" class=\"dataframe\">\n",
              "  <thead>\n",
              "    <tr style=\"text-align: right;\">\n",
              "      <th></th>\n",
              "      <th>sigla_partido</th>\n",
              "      <th>id_municipio</th>\n",
              "      <th>total_votos</th>\n",
              "      <th>percent</th>\n",
              "    </tr>\n",
              "  </thead>\n",
              "  <tbody>\n",
              "    <tr>\n",
              "      <th>0</th>\n",
              "      <td>PT</td>\n",
              "      <td>3500105</td>\n",
              "      <td>9468</td>\n",
              "      <td>17.298838</td>\n",
              "    </tr>\n",
              "    <tr>\n",
              "      <th>1</th>\n",
              "      <td>PSL</td>\n",
              "      <td>3500105</td>\n",
              "      <td>45264</td>\n",
              "      <td>82.701162</td>\n",
              "    </tr>\n",
              "    <tr>\n",
              "      <th>2</th>\n",
              "      <td>PT</td>\n",
              "      <td>3500204</td>\n",
              "      <td>1983</td>\n",
              "      <td>24.46336</td>\n",
              "    </tr>\n",
              "    <tr>\n",
              "      <th>3</th>\n",
              "      <td>PSL</td>\n",
              "      <td>3500204</td>\n",
              "      <td>6123</td>\n",
              "      <td>75.53664</td>\n",
              "    </tr>\n",
              "    <tr>\n",
              "      <th>4</th>\n",
              "      <td>PT</td>\n",
              "      <td>3500303</td>\n",
              "      <td>13005</td>\n",
              "      <td>28.708609</td>\n",
              "    </tr>\n",
              "    <tr>\n",
              "      <th>...</th>\n",
              "      <td>...</td>\n",
              "      <td>...</td>\n",
              "      <td>...</td>\n",
              "      <td>...</td>\n",
              "    </tr>\n",
              "    <tr>\n",
              "      <th>1285</th>\n",
              "      <td>PSL</td>\n",
              "      <td>3557154</td>\n",
              "      <td>3396</td>\n",
              "      <td>71.239773</td>\n",
              "    </tr>\n",
              "    <tr>\n",
              "      <th>1286</th>\n",
              "      <td>PT</td>\n",
              "      <td>3557204</td>\n",
              "      <td>5214</td>\n",
              "      <td>27.635554</td>\n",
              "    </tr>\n",
              "    <tr>\n",
              "      <th>1287</th>\n",
              "      <td>PSL</td>\n",
              "      <td>3557204</td>\n",
              "      <td>13653</td>\n",
              "      <td>72.364446</td>\n",
              "    </tr>\n",
              "    <tr>\n",
              "      <th>1288</th>\n",
              "      <td>PT</td>\n",
              "      <td>3557303</td>\n",
              "      <td>4185</td>\n",
              "      <td>23.031204</td>\n",
              "    </tr>\n",
              "    <tr>\n",
              "      <th>1289</th>\n",
              "      <td>PSL</td>\n",
              "      <td>3557303</td>\n",
              "      <td>13986</td>\n",
              "      <td>76.968796</td>\n",
              "    </tr>\n",
              "  </tbody>\n",
              "</table>\n",
              "<p>1290 rows × 4 columns</p>\n",
              "</div>\n",
              "      <button class=\"colab-df-convert\" onclick=\"convertToInteractive('df-519b1502-bd4d-47b3-a8bc-5ed41aa26863')\"\n",
              "              title=\"Convert this dataframe to an interactive table.\"\n",
              "              style=\"display:none;\">\n",
              "        \n",
              "  <svg xmlns=\"http://www.w3.org/2000/svg\" height=\"24px\"viewBox=\"0 0 24 24\"\n",
              "       width=\"24px\">\n",
              "    <path d=\"M0 0h24v24H0V0z\" fill=\"none\"/>\n",
              "    <path d=\"M18.56 5.44l.94 2.06.94-2.06 2.06-.94-2.06-.94-.94-2.06-.94 2.06-2.06.94zm-11 1L8.5 8.5l.94-2.06 2.06-.94-2.06-.94L8.5 2.5l-.94 2.06-2.06.94zm10 10l.94 2.06.94-2.06 2.06-.94-2.06-.94-.94-2.06-.94 2.06-2.06.94z\"/><path d=\"M17.41 7.96l-1.37-1.37c-.4-.4-.92-.59-1.43-.59-.52 0-1.04.2-1.43.59L10.3 9.45l-7.72 7.72c-.78.78-.78 2.05 0 2.83L4 21.41c.39.39.9.59 1.41.59.51 0 1.02-.2 1.41-.59l7.78-7.78 2.81-2.81c.8-.78.8-2.07 0-2.86zM5.41 20L4 18.59l7.72-7.72 1.47 1.35L5.41 20z\"/>\n",
              "  </svg>\n",
              "      </button>\n",
              "      \n",
              "  <style>\n",
              "    .colab-df-container {\n",
              "      display:flex;\n",
              "      flex-wrap:wrap;\n",
              "      gap: 12px;\n",
              "    }\n",
              "\n",
              "    .colab-df-convert {\n",
              "      background-color: #E8F0FE;\n",
              "      border: none;\n",
              "      border-radius: 50%;\n",
              "      cursor: pointer;\n",
              "      display: none;\n",
              "      fill: #1967D2;\n",
              "      height: 32px;\n",
              "      padding: 0 0 0 0;\n",
              "      width: 32px;\n",
              "    }\n",
              "\n",
              "    .colab-df-convert:hover {\n",
              "      background-color: #E2EBFA;\n",
              "      box-shadow: 0px 1px 2px rgba(60, 64, 67, 0.3), 0px 1px 3px 1px rgba(60, 64, 67, 0.15);\n",
              "      fill: #174EA6;\n",
              "    }\n",
              "\n",
              "    [theme=dark] .colab-df-convert {\n",
              "      background-color: #3B4455;\n",
              "      fill: #D2E3FC;\n",
              "    }\n",
              "\n",
              "    [theme=dark] .colab-df-convert:hover {\n",
              "      background-color: #434B5C;\n",
              "      box-shadow: 0px 1px 3px 1px rgba(0, 0, 0, 0.15);\n",
              "      filter: drop-shadow(0px 1px 2px rgba(0, 0, 0, 0.3));\n",
              "      fill: #FFFFFF;\n",
              "    }\n",
              "  </style>\n",
              "\n",
              "      <script>\n",
              "        const buttonEl =\n",
              "          document.querySelector('#df-519b1502-bd4d-47b3-a8bc-5ed41aa26863 button.colab-df-convert');\n",
              "        buttonEl.style.display =\n",
              "          google.colab.kernel.accessAllowed ? 'block' : 'none';\n",
              "\n",
              "        async function convertToInteractive(key) {\n",
              "          const element = document.querySelector('#df-519b1502-bd4d-47b3-a8bc-5ed41aa26863');\n",
              "          const dataTable =\n",
              "            await google.colab.kernel.invokeFunction('convertToInteractive',\n",
              "                                                     [key], {});\n",
              "          if (!dataTable) return;\n",
              "\n",
              "          const docLinkHtml = 'Like what you see? Visit the ' +\n",
              "            '<a target=\"_blank\" href=https://colab.research.google.com/notebooks/data_table.ipynb>data table notebook</a>'\n",
              "            + ' to learn more about interactive tables.';\n",
              "          element.innerHTML = '';\n",
              "          dataTable['output_type'] = 'display_data';\n",
              "          await google.colab.output.renderOutput(dataTable, element);\n",
              "          const docLink = document.createElement('div');\n",
              "          docLink.innerHTML = docLinkHtml;\n",
              "          element.appendChild(docLink);\n",
              "        }\n",
              "      </script>\n",
              "    </div>\n",
              "  </div>\n",
              "  "
            ]
          },
          "metadata": {},
          "execution_count": 13
        }
      ]
    }
  ]
}